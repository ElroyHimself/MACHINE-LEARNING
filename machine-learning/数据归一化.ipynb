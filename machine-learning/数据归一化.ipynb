{
 "cells": [
  {
   "cell_type": "markdown",
   "metadata": {},
   "source": [
    "# 最值归一化 Normalization"
   ]
  },
  {
   "cell_type": "code",
   "execution_count": 14,
   "metadata": {},
   "outputs": [],
   "source": [
    "import numpy as np\n",
    "import matplotlib\n",
    "from matplotlib import pyplot as plt"
   ]
  },
  {
   "cell_type": "code",
   "execution_count": 15,
   "metadata": {},
   "outputs": [
    {
     "data": {
      "text/plain": [
       "array([58, 19, 73, 22, 84, 91,  1, 90, 31, 29, 75, 66, 59, 53, 19, 39,  0,\n",
       "       78, 75, 25, 29, 21, 59, 24, 12,  2,  6, 68, 75,  2,  2, 70,  2, 11,\n",
       "       79, 38, 12, 47, 11, 66, 30, 76, 13, 13, 53, 35, 86, 38, 53, 97, 76,\n",
       "       80, 10,  2, 51, 71, 95, 69, 31, 58,  7, 88, 76, 28, 22, 24, 98, 78,\n",
       "       43,  9, 36, 92, 22, 79, 76, 59, 10, 36, 19, 82, 69, 70, 42, 54, 18,\n",
       "       18, 42,  4, 95, 23, 26, 73, 30, 30, 29, 94, 79, 18, 70, 92])"
      ]
     },
     "execution_count": 15,
     "metadata": {},
     "output_type": "execute_result"
    }
   ],
   "source": [
    "x = np.random.randint(0,100,size = 100)\n",
    "x"
   ]
  },
  {
   "cell_type": "code",
   "execution_count": 16,
   "metadata": {},
   "outputs": [
    {
     "data": {
      "text/plain": [
       "array([0.59183673, 0.19387755, 0.74489796, 0.2244898 , 0.85714286,\n",
       "       0.92857143, 0.01020408, 0.91836735, 0.31632653, 0.29591837,\n",
       "       0.76530612, 0.67346939, 0.60204082, 0.54081633, 0.19387755,\n",
       "       0.39795918, 0.        , 0.79591837, 0.76530612, 0.25510204,\n",
       "       0.29591837, 0.21428571, 0.60204082, 0.24489796, 0.12244898,\n",
       "       0.02040816, 0.06122449, 0.69387755, 0.76530612, 0.02040816,\n",
       "       0.02040816, 0.71428571, 0.02040816, 0.1122449 , 0.80612245,\n",
       "       0.3877551 , 0.12244898, 0.47959184, 0.1122449 , 0.67346939,\n",
       "       0.30612245, 0.7755102 , 0.13265306, 0.13265306, 0.54081633,\n",
       "       0.35714286, 0.87755102, 0.3877551 , 0.54081633, 0.98979592,\n",
       "       0.7755102 , 0.81632653, 0.10204082, 0.02040816, 0.52040816,\n",
       "       0.7244898 , 0.96938776, 0.70408163, 0.31632653, 0.59183673,\n",
       "       0.07142857, 0.89795918, 0.7755102 , 0.28571429, 0.2244898 ,\n",
       "       0.24489796, 1.        , 0.79591837, 0.43877551, 0.09183673,\n",
       "       0.36734694, 0.93877551, 0.2244898 , 0.80612245, 0.7755102 ,\n",
       "       0.60204082, 0.10204082, 0.36734694, 0.19387755, 0.83673469,\n",
       "       0.70408163, 0.71428571, 0.42857143, 0.55102041, 0.18367347,\n",
       "       0.18367347, 0.42857143, 0.04081633, 0.96938776, 0.23469388,\n",
       "       0.26530612, 0.74489796, 0.30612245, 0.30612245, 0.29591837,\n",
       "       0.95918367, 0.80612245, 0.18367347, 0.71428571, 0.93877551])"
      ]
     },
     "execution_count": 16,
     "metadata": {},
     "output_type": "execute_result"
    }
   ],
   "source": [
    "(x - np.min(x))/(np.max(x)-np.min(x))"
   ]
  },
  {
   "cell_type": "code",
   "execution_count": 17,
   "metadata": {},
   "outputs": [
    {
     "data": {
      "text/plain": [
       "array([[62, 78],\n",
       "       [61,  4],\n",
       "       [75, 86],\n",
       "       [ 8, 69],\n",
       "       [15, 31],\n",
       "       [53,  5],\n",
       "       [92, 38],\n",
       "       [73, 66],\n",
       "       [48, 61],\n",
       "       [67, 33],\n",
       "       [ 2, 35],\n",
       "       [ 7, 91],\n",
       "       [44, 49],\n",
       "       [36, 94],\n",
       "       [83,  0],\n",
       "       [41, 85],\n",
       "       [ 3, 17],\n",
       "       [80, 52],\n",
       "       [66, 65],\n",
       "       [23, 51],\n",
       "       [97, 33],\n",
       "       [72, 72],\n",
       "       [75, 86],\n",
       "       [ 3,  5],\n",
       "       [38, 63],\n",
       "       [75, 38],\n",
       "       [67, 43],\n",
       "       [17, 31],\n",
       "       [24, 18],\n",
       "       [55, 10],\n",
       "       [75, 44],\n",
       "       [48, 18],\n",
       "       [88, 40],\n",
       "       [28, 44],\n",
       "       [40, 19],\n",
       "       [51, 52],\n",
       "       [22, 26],\n",
       "       [51, 14],\n",
       "       [42, 21],\n",
       "       [81, 36],\n",
       "       [86, 98],\n",
       "       [57, 50],\n",
       "       [37, 62],\n",
       "       [50, 29],\n",
       "       [81, 85],\n",
       "       [76, 65],\n",
       "       [77,  5],\n",
       "       [76, 71],\n",
       "       [83, 63],\n",
       "       [85, 29]])"
      ]
     },
     "execution_count": 17,
     "metadata": {},
     "output_type": "execute_result"
    }
   ],
   "source": [
    "x = np.random.randint(0,100,(50,2))\n",
    "x"
   ]
  },
  {
   "cell_type": "code",
   "execution_count": 18,
   "metadata": {},
   "outputs": [],
   "source": [
    "x = np.array(x,dtype= float)"
   ]
  },
  {
   "cell_type": "code",
   "execution_count": 19,
   "metadata": {},
   "outputs": [],
   "source": [
    "x[:,0] = (x[:,0] - np.min(x[:,0])) / (np.max(x[:,0])- np.min(x[:,0]))"
   ]
  },
  {
   "cell_type": "code",
   "execution_count": 20,
   "metadata": {},
   "outputs": [],
   "source": [
    "x[:,1] = (x[:,1] - np.min(x[:,1])) / (np.max(x[:,1])- np.min(x[:,1]))"
   ]
  },
  {
   "cell_type": "code",
   "execution_count": 21,
   "metadata": {},
   "outputs": [
    {
     "data": {
      "text/plain": [
       "array([[0.63157895, 0.79591837],\n",
       "       [0.62105263, 0.04081633],\n",
       "       [0.76842105, 0.87755102],\n",
       "       [0.06315789, 0.70408163],\n",
       "       [0.13684211, 0.31632653],\n",
       "       [0.53684211, 0.05102041],\n",
       "       [0.94736842, 0.3877551 ],\n",
       "       [0.74736842, 0.67346939],\n",
       "       [0.48421053, 0.62244898],\n",
       "       [0.68421053, 0.33673469]])"
      ]
     },
     "execution_count": 21,
     "metadata": {},
     "output_type": "execute_result"
    }
   ],
   "source": [
    "x[:10,:]"
   ]
  },
  {
   "cell_type": "code",
   "execution_count": 22,
   "metadata": {},
   "outputs": [
    {
     "data": {
      "text/plain": [
       "<matplotlib.collections.PathCollection at 0x1188684d0>"
      ]
     },
     "execution_count": 22,
     "metadata": {},
     "output_type": "execute_result"
    },
    {
     "data": {
      "image/png": "[encoded data removed]",
      "text/plain": [
       "<Figure size 432x288 with 1 Axes>"
      ]
     },
     "metadata": {
      "needs_background": "light"
     },
     "output_type": "display_data"
    }
   ],
   "source": [
    "plt.scatter(x[:,0],x[:,1])"
   ]
  },
  {
   "cell_type": "code",
   "execution_count": 23,
   "metadata": {},
   "outputs": [
    {
     "data": {
      "text/plain": [
       "0.5465263157894737"
      ]
     },
     "execution_count": 23,
     "metadata": {},
     "output_type": "execute_result"
    }
   ],
   "source": [
    "np.mean(x[:,0])"
   ]
  },
  {
   "cell_type": "code",
   "execution_count": 24,
   "metadata": {},
   "outputs": [
    {
     "data": {
      "text/plain": [
       "0.2787692778074863"
      ]
     },
     "execution_count": 24,
     "metadata": {},
     "output_type": "execute_result"
    }
   ],
   "source": [
    "np.std(x[:,0])"
   ]
  },
  {
   "cell_type": "code",
   "execution_count": 25,
   "metadata": {},
   "outputs": [
    {
     "data": {
      "text/plain": [
       "0.4653061224489796"
      ]
     },
     "execution_count": 25,
     "metadata": {},
     "output_type": "execute_result"
    }
   ],
   "source": [
    "np.mean(x[:,1])"
   ]
  },
  {
   "cell_type": "code",
   "execution_count": 26,
   "metadata": {},
   "outputs": [
    {
     "data": {
      "text/plain": [
       "0.2722712100615943"
      ]
     },
     "execution_count": 26,
     "metadata": {},
     "output_type": "execute_result"
    }
   ],
   "source": [
    "np.std(x[:,1])"
   ]
  },
  {
   "cell_type": "markdown",
   "metadata": {},
   "source": [
    "## 均值方差归一化  Standardization"
   ]
  },
  {
   "cell_type": "code",
   "execution_count": 28,
   "metadata": {},
   "outputs": [],
   "source": [
    "x2 = np.random.randint(0,100,(50,2))\n"
   ]
  },
  {
   "cell_type": "code",
   "execution_count": 29,
   "metadata": {},
   "outputs": [],
   "source": [
    "x2 = np.array(x2,dtype = float)"
   ]
  },
  {
   "cell_type": "code",
   "execution_count": 30,
   "metadata": {},
   "outputs": [],
   "source": [
    "x2[:,0] = (x2[:,0] - np.mean(x2[:,0])) / np.std(x2[:,0])"
   ]
  },
  {
   "cell_type": "code",
   "execution_count": 31,
   "metadata": {},
   "outputs": [],
   "source": [
    "x2[:,1] = (x2[:,1] - np.mean(x2[:,1])) / np.std(x2[:,1])"
   ]
  },
  {
   "cell_type": "code",
   "execution_count": 32,
   "metadata": {},
   "outputs": [
    {
     "data": {
      "text/plain": [
       "<matplotlib.collections.PathCollection at 0x11888b450>"
      ]
     },
     "execution_count": 32,
     "metadata": {},
     "output_type": "execute_result"
    },
    {
     "data": {
      "image/png": "[encoded data removed]",
      "text/plain": [
       "<Figure size 432x288 with 1 Axes>"
      ]
     },
     "metadata": {
      "needs_background": "light"
     },
     "output_type": "display_data"
    }
   ],
   "source": [
    "plt.scatter(x2[:,0],x2[:,1])"
   ]
  },
  {
   "cell_type": "code",
   "execution_count": 33,
   "metadata": {},
   "outputs": [
    {
     "data": {
      "text/plain": [
       "-1.3322676295501878e-17"
      ]
     },
     "execution_count": 33,
     "metadata": {},
     "output_type": "execute_result"
    }
   ],
   "source": [
    "np.mean(x2[:,0])"
   ]
  },
  {
   "cell_type": "code",
   "execution_count": 34,
   "metadata": {},
   "outputs": [
    {
     "data": {
      "text/plain": [
       "1.0"
      ]
     },
     "execution_count": 34,
     "metadata": {},
     "output_type": "execute_result"
    }
   ],
   "source": [
    "np.std(x2[:,0])"
   ]
  },
  {
   "cell_type": "code",
   "execution_count": 35,
   "metadata": {},
   "outputs": [
    {
     "data": {
      "text/plain": [
       "6.217248937900877e-17"
      ]
     },
     "execution_count": 35,
     "metadata": {},
     "output_type": "execute_result"
    }
   ],
   "source": [
    "np.mean(x2[:,1])"
   ]
  },
  {
   "cell_type": "code",
   "execution_count": 36,
   "metadata": {},
   "outputs": [
    {
     "data": {
      "text/plain": [
       "1.0"
      ]
     },
     "execution_count": 36,
     "metadata": {},
     "output_type": "execute_result"
    }
   ],
   "source": [
    "np.std(x2[:,1])"
   ]
  },
  {
   "cell_type": "code",
   "execution_count": null,
   "metadata": {},
   "outputs": [],
   "source": []
  }
 ],
 "metadata": {
  "kernelspec": {
   "display_name": "Python 3",
   "language": "python",
   "name": "python3"
  },
  "language_info": {
   "codemirror_mode": {
    "name": "ipython",
    "version": 3
   },
   "file_extension": ".py",
   "mimetype": "text/x-python",
   "name": "python",
   "nbconvert_exporter": "python",
   "pygments_lexer": "ipython3",
   "version": "3.7.6"
  }
 },
 "nbformat": 4,
 "nbformat_minor": 4
}
